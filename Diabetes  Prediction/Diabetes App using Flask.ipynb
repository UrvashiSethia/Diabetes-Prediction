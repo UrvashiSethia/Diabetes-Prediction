{
 "cells": [
  {
   "cell_type": "markdown",
   "id": "5ab2ba12",
   "metadata": {},
   "source": [
    "**Creating a web app using flask and connecting it with model**"
   ]
  },
  {
   "cell_type": "code",
   "execution_count": 1,
   "id": "af4b8990",
   "metadata": {},
   "outputs": [
    {
     "name": "stdout",
     "output_type": "stream",
     "text": [
      " * Serving Flask app \"__main__\" (lazy loading)\n",
      " * Environment: production\n",
      "   WARNING: This is a development server. Do not use it in a production deployment.\n",
      "   Use a production WSGI server instead.\n",
      " * Debug mode: on\n"
     ]
    },
    {
     "name": "stderr",
     "output_type": "stream",
     "text": [
      " * Restarting with windowsapi reloader\n"
     ]
    },
    {
     "ename": "SystemExit",
     "evalue": "1",
     "output_type": "error",
     "traceback": [
      "An exception has occurred, use %tb to see the full traceback.\n",
      "\u001b[1;31mSystemExit\u001b[0m\u001b[1;31m:\u001b[0m 1\n"
     ]
    },
    {
     "name": "stderr",
     "output_type": "stream",
     "text": [
      "C:\\Users\\HP\\anaconda3\\lib\\site-packages\\IPython\\core\\interactiveshell.py:3445: UserWarning: To exit: use 'exit', 'quit', or Ctrl-D.\n",
      "  warn(\"To exit: use 'exit', 'quit', or Ctrl-D.\", stacklevel=1)\n"
     ]
    }
   ],
   "source": [
    "from flask import Flask,request, url_for, redirect, render_template  ## importing necessary libraries\n",
    "import pickle  ## pickle for loading model(Diabetes.pkl)\n",
    "import pandas as pd  ## to convert the input data into a dataframe for giving as a input to the model\n",
    "\n",
    "app = Flask(__name__)  ## setting up flask name\n",
    "\n",
    "model = pickle.load(open(\"Diabetes.pkl\", \"rb\"))  ##loading model\n",
    "\n",
    "\n",
    "@app.route('/')             ## Defining main index route\n",
    "def home():\n",
    "    return render_template(\"index.html\")   ## showing index.html as homepage\n",
    "\n",
    "\n",
    "@app.route('/predict',methods=['POST','GET'])  ## this route will be called when predict button is called\n",
    "def predict(): \n",
    "    #int_features=[float(x) for x in request.form.values()]\n",
    "    text1 = request.form['1']      ## Fetching each input field value one by one\n",
    "    text2 = request.form['2'] \n",
    "    text3 = request.form['3']\n",
    "    text4 = request.form['4']\n",
    "    text5 = request.form['5']\n",
    "    text6 = request.form['6']\n",
    "    text7 = request.form['7']\n",
    "    text8 = request.form['8']\n",
    " \n",
    "    row_df = pd.DataFrame([pd.Series([text1,text2,text3,text4,text5,text6,text7,text8])])  ### Creating a dataframe using all the values\n",
    "    print(row_df)\n",
    "    prediction=model.predict_proba(row_df) ## Predicting the output\n",
    "    output='{0:.{1}f}'.format(prediction[0][1], 2)    ## Formating output\n",
    "\n",
    "    if output>str(0.5):\n",
    "        return render_template('index.html',pred='You have chance of having diabetes.\\nProbability of having Diabetes is {}'.format(output)) ## Returning the message for use on the same index.html page\n",
    "    else:\n",
    "        return render_template('index.html',pred='You are safe.\\n Probability of having diabetes is {}'.format(output)) \n",
    "\n",
    "\n",
    "\n",
    "\n",
    "if __name__ == '__main__':\n",
    "    app.run(debug=True)          ## Running the app as debug==True"
   ]
  },
  {
   "cell_type": "code",
   "execution_count": null,
   "id": "9d0dd45d",
   "metadata": {},
   "outputs": [],
   "source": []
  }
 ],
 "metadata": {
  "kernelspec": {
   "display_name": "Python 3",
   "language": "python",
   "name": "python3"
  },
  "language_info": {
   "codemirror_mode": {
    "name": "ipython",
    "version": 3
   },
   "file_extension": ".py",
   "mimetype": "text/x-python",
   "name": "python",
   "nbconvert_exporter": "python",
   "pygments_lexer": "ipython3",
   "version": "3.8.8"
  }
 },
 "nbformat": 4,
 "nbformat_minor": 5
}
